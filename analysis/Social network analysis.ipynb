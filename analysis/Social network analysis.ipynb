{
 "cells": [
  {
   "cell_type": "code",
   "execution_count": 1,
   "metadata": {},
   "outputs": [],
   "source": [
    "import pandas as pd"
   ]
  },
  {
   "cell_type": "code",
   "execution_count": 2,
   "metadata": {},
   "outputs": [],
   "source": [
    "people = pd.read_csv(\"../database/people.csv\", encoding='utf-8')\n",
    "attendance = pd.read_csv(\"../database/attendance.csv\", encoding = 'utf-8')"
   ]
  },
  {
   "cell_type": "code",
   "execution_count": 3,
   "metadata": {},
   "outputs": [
    {
     "data": {
      "text/html": [
       "<div>\n",
       "<style scoped>\n",
       "    .dataframe tbody tr th:only-of-type {\n",
       "        vertical-align: middle;\n",
       "    }\n",
       "\n",
       "    .dataframe tbody tr th {\n",
       "        vertical-align: top;\n",
       "    }\n",
       "\n",
       "    .dataframe thead th {\n",
       "        text-align: right;\n",
       "    }\n",
       "</style>\n",
       "<table border=\"1\" class=\"dataframe\">\n",
       "  <thead>\n",
       "    <tr style=\"text-align: right;\">\n",
       "      <th></th>\n",
       "      <th>id</th>\n",
       "      <th>name</th>\n",
       "      <th>surname</th>\n",
       "      <th>skills</th>\n",
       "      <th>hobbies</th>\n",
       "    </tr>\n",
       "  </thead>\n",
       "  <tbody>\n",
       "    <tr>\n",
       "      <th>0</th>\n",
       "      <td>107</td>\n",
       "      <td>Bouwina</td>\n",
       "      <td>Jelača</td>\n",
       "      <td>ethics:classify basic film genres:anthropology...</td>\n",
       "      <td>professional dancing:handmade crafts:swimming:...</td>\n",
       "    </tr>\n",
       "    <tr>\n",
       "      <th>1</th>\n",
       "      <td>134</td>\n",
       "      <td>Paola</td>\n",
       "      <td>Kasalović</td>\n",
       "      <td>philosophy:roman law:justice system:orthograph...</td>\n",
       "      <td>volleyball:skiing:gardening:swimming:basketbal...</td>\n",
       "    </tr>\n",
       "    <tr>\n",
       "      <th>2</th>\n",
       "      <td>40</td>\n",
       "      <td>Kaja</td>\n",
       "      <td>Dolovac</td>\n",
       "      <td>human biology:mathematics and informatics-teac...</td>\n",
       "      <td>horseback riding:cooking:skiing:volleyball:net...</td>\n",
       "    </tr>\n",
       "    <tr>\n",
       "      <th>3</th>\n",
       "      <td>45</td>\n",
       "      <td>Josip</td>\n",
       "      <td>Biberčić</td>\n",
       "      <td>roman law:roman private law:legal systems:deat...</td>\n",
       "      <td>knitting:gardening:volunteering:basketball:gro...</td>\n",
       "    </tr>\n",
       "    <tr>\n",
       "      <th>4</th>\n",
       "      <td>133</td>\n",
       "      <td>Astrid</td>\n",
       "      <td>Dapčević</td>\n",
       "      <td>botany and zoology:toxicology:nuclear physics:...</td>\n",
       "      <td>football:netflix:swimming:gym:skiing:writing:b...</td>\n",
       "    </tr>\n",
       "    <tr>\n",
       "      <th>...</th>\n",
       "      <td>...</td>\n",
       "      <td>...</td>\n",
       "      <td>...</td>\n",
       "      <td>...</td>\n",
       "      <td>...</td>\n",
       "    </tr>\n",
       "    <tr>\n",
       "      <th>195</th>\n",
       "      <td>67</td>\n",
       "      <td>Grigor</td>\n",
       "      <td>Bešlagić</td>\n",
       "      <td>automatics:ontology:Croatian dialects:comparat...</td>\n",
       "      <td>volunteering:writing:tennis:group sports:video...</td>\n",
       "    </tr>\n",
       "    <tr>\n",
       "      <th>196</th>\n",
       "      <td>7</td>\n",
       "      <td>Lidija</td>\n",
       "      <td>Vukenović</td>\n",
       "      <td>web design:programming:robotics:mechatronics:m...</td>\n",
       "      <td>swimming:diving:skiing:basketball:gym:knitting...</td>\n",
       "    </tr>\n",
       "    <tr>\n",
       "      <th>197</th>\n",
       "      <td>150</td>\n",
       "      <td>Nera</td>\n",
       "      <td>Antić</td>\n",
       "      <td>ethics:psychology of pain:Croatian dialects:ba...</td>\n",
       "      <td>volunteering:writing:knitting:football:reading...</td>\n",
       "    </tr>\n",
       "    <tr>\n",
       "      <th>198</th>\n",
       "      <td>165</td>\n",
       "      <td>Fran</td>\n",
       "      <td>Rovinac</td>\n",
       "      <td>electroenergetics:fluid mechanics:computationa...</td>\n",
       "      <td>beekeeping:group sports:translating:football:c...</td>\n",
       "    </tr>\n",
       "    <tr>\n",
       "      <th>199</th>\n",
       "      <td>187</td>\n",
       "      <td>Olivera</td>\n",
       "      <td>Šapić</td>\n",
       "      <td>public relations:ethics:comparative literature...</td>\n",
       "      <td>tennis:netflix:professional dancing:group sports</td>\n",
       "    </tr>\n",
       "  </tbody>\n",
       "</table>\n",
       "<p>200 rows × 5 columns</p>\n",
       "</div>"
      ],
      "text/plain": [
       "      id     name    surname  \\\n",
       "0    107  Bouwina     Jelača   \n",
       "1    134    Paola  Kasalović   \n",
       "2     40     Kaja    Dolovac   \n",
       "3     45    Josip   Biberčić   \n",
       "4    133   Astrid   Dapčević   \n",
       "..   ...      ...        ...   \n",
       "195   67   Grigor   Bešlagić   \n",
       "196    7   Lidija  Vukenović   \n",
       "197  150     Nera      Antić   \n",
       "198  165     Fran    Rovinac   \n",
       "199  187  Olivera      Šapić   \n",
       "\n",
       "                                                skills  \\\n",
       "0    ethics:classify basic film genres:anthropology...   \n",
       "1    philosophy:roman law:justice system:orthograph...   \n",
       "2    human biology:mathematics and informatics-teac...   \n",
       "3    roman law:roman private law:legal systems:deat...   \n",
       "4    botany and zoology:toxicology:nuclear physics:...   \n",
       "..                                                 ...   \n",
       "195  automatics:ontology:Croatian dialects:comparat...   \n",
       "196  web design:programming:robotics:mechatronics:m...   \n",
       "197  ethics:psychology of pain:Croatian dialects:ba...   \n",
       "198  electroenergetics:fluid mechanics:computationa...   \n",
       "199  public relations:ethics:comparative literature...   \n",
       "\n",
       "                                               hobbies  \n",
       "0    professional dancing:handmade crafts:swimming:...  \n",
       "1    volleyball:skiing:gardening:swimming:basketbal...  \n",
       "2    horseback riding:cooking:skiing:volleyball:net...  \n",
       "3    knitting:gardening:volunteering:basketball:gro...  \n",
       "4    football:netflix:swimming:gym:skiing:writing:b...  \n",
       "..                                                 ...  \n",
       "195  volunteering:writing:tennis:group sports:video...  \n",
       "196  swimming:diving:skiing:basketball:gym:knitting...  \n",
       "197  volunteering:writing:knitting:football:reading...  \n",
       "198  beekeeping:group sports:translating:football:c...  \n",
       "199   tennis:netflix:professional dancing:group sports  \n",
       "\n",
       "[200 rows x 5 columns]"
      ]
     },
     "execution_count": 3,
     "metadata": {},
     "output_type": "execute_result"
    }
   ],
   "source": [
    "people = people[[\"id\",\"name\",\"surname\",\"skills\",\"hobbies\"]]\n",
    "people"
   ]
  },
  {
   "cell_type": "code",
   "execution_count": 4,
   "metadata": {},
   "outputs": [
    {
     "data": {
      "text/html": [
       "<div>\n",
       "<style scoped>\n",
       "    .dataframe tbody tr th:only-of-type {\n",
       "        vertical-align: middle;\n",
       "    }\n",
       "\n",
       "    .dataframe tbody tr th {\n",
       "        vertical-align: top;\n",
       "    }\n",
       "\n",
       "    .dataframe thead th {\n",
       "        text-align: right;\n",
       "    }\n",
       "</style>\n",
       "<table border=\"1\" class=\"dataframe\">\n",
       "  <thead>\n",
       "    <tr style=\"text-align: right;\">\n",
       "      <th></th>\n",
       "      <th>person_id</th>\n",
       "      <th>grade</th>\n",
       "    </tr>\n",
       "  </thead>\n",
       "  <tbody>\n",
       "    <tr>\n",
       "      <th>0</th>\n",
       "      <td>107</td>\n",
       "      <td>2.01</td>\n",
       "    </tr>\n",
       "    <tr>\n",
       "      <th>1</th>\n",
       "      <td>134</td>\n",
       "      <td>2.95</td>\n",
       "    </tr>\n",
       "    <tr>\n",
       "      <th>2</th>\n",
       "      <td>40</td>\n",
       "      <td>3.46</td>\n",
       "    </tr>\n",
       "    <tr>\n",
       "      <th>3</th>\n",
       "      <td>45</td>\n",
       "      <td>2.62</td>\n",
       "    </tr>\n",
       "    <tr>\n",
       "      <th>4</th>\n",
       "      <td>133</td>\n",
       "      <td>3.18</td>\n",
       "    </tr>\n",
       "    <tr>\n",
       "      <th>...</th>\n",
       "      <td>...</td>\n",
       "      <td>...</td>\n",
       "    </tr>\n",
       "    <tr>\n",
       "      <th>195</th>\n",
       "      <td>67</td>\n",
       "      <td>4.34</td>\n",
       "    </tr>\n",
       "    <tr>\n",
       "      <th>196</th>\n",
       "      <td>7</td>\n",
       "      <td>2.34</td>\n",
       "    </tr>\n",
       "    <tr>\n",
       "      <th>197</th>\n",
       "      <td>150</td>\n",
       "      <td>2.46</td>\n",
       "    </tr>\n",
       "    <tr>\n",
       "      <th>198</th>\n",
       "      <td>165</td>\n",
       "      <td>2.34</td>\n",
       "    </tr>\n",
       "    <tr>\n",
       "      <th>199</th>\n",
       "      <td>187</td>\n",
       "      <td>3.68</td>\n",
       "    </tr>\n",
       "  </tbody>\n",
       "</table>\n",
       "<p>200 rows × 2 columns</p>\n",
       "</div>"
      ],
      "text/plain": [
       "     person_id  grade\n",
       "0          107   2.01\n",
       "1          134   2.95\n",
       "2           40   3.46\n",
       "3           45   2.62\n",
       "4          133   3.18\n",
       "..         ...    ...\n",
       "195         67   4.34\n",
       "196          7   2.34\n",
       "197        150   2.46\n",
       "198        165   2.34\n",
       "199        187   3.68\n",
       "\n",
       "[200 rows x 2 columns]"
      ]
     },
     "execution_count": 4,
     "metadata": {},
     "output_type": "execute_result"
    }
   ],
   "source": [
    "attendance = attendance[[\"person_id\", \"grade\"]]\n",
    "attendance"
   ]
  },
  {
   "cell_type": "code",
   "execution_count": 5,
   "metadata": {},
   "outputs": [],
   "source": [
    "def count(string_sep, sep = \":\"):\n",
    "    return len(string_sep.split(\":\"))"
   ]
  },
  {
   "cell_type": "code",
   "execution_count": 6,
   "metadata": {},
   "outputs": [],
   "source": [
    "for el in people[\"skills\"]:\n",
    "    people.replace(el, count(el), inplace=True) "
   ]
  },
  {
   "cell_type": "code",
   "execution_count": 7,
   "metadata": {},
   "outputs": [],
   "source": [
    "for el in people[\"hobbies\"]:\n",
    "    people.replace(el, count(el), inplace=True)"
   ]
  },
  {
   "cell_type": "code",
   "execution_count": 8,
   "metadata": {},
   "outputs": [
    {
     "data": {
      "text/plain": [
       "array([[<AxesSubplot:title={'center':'skills'}>]], dtype=object)"
      ]
     },
     "execution_count": 8,
     "metadata": {},
     "output_type": "execute_result"
    },
    {
     "data": {
      "image/png": "[encoded data removed]",
      "text/plain": [
       "<Figure size 432x288 with 1 Axes>"
      ]
     },
     "metadata": {
      "needs_background": "light"
     },
     "output_type": "display_data"
    }
   ],
   "source": [
    "people.hist(\"skills\", bins=(people[\"skills\"].max()-people[\"skills\"].min()))"
   ]
  },
  {
   "cell_type": "code",
   "execution_count": 9,
   "metadata": {},
   "outputs": [
    {
     "data": {
      "text/plain": [
       "array([[<AxesSubplot:title={'center':'hobbies'}>]], dtype=object)"
      ]
     },
     "execution_count": 9,
     "metadata": {},
     "output_type": "execute_result"
    },
    {
     "data": {
      "image/png": "[encoded data removed]",
      "text/plain": [
       "<Figure size 432x288 with 1 Axes>"
      ]
     },
     "metadata": {
      "needs_background": "light"
     },
     "output_type": "display_data"
    }
   ],
   "source": [
    "people.hist(\"hobbies\", bins=(people[\"hobbies\"].max()-people[\"hobbies\"].min()))"
   ]
  },
  {
   "cell_type": "code",
   "execution_count": 10,
   "metadata": {},
   "outputs": [],
   "source": [
    "people = people.set_index('id')"
   ]
  },
  {
   "cell_type": "code",
   "execution_count": 11,
   "metadata": {},
   "outputs": [],
   "source": [
    "people = people.merge(attendance, left_index=True, right_on='person_id')"
   ]
  },
  {
   "cell_type": "code",
   "execution_count": 12,
   "metadata": {},
   "outputs": [
    {
     "data": {
      "text/html": [
       "<div>\n",
       "<style scoped>\n",
       "    .dataframe tbody tr th:only-of-type {\n",
       "        vertical-align: middle;\n",
       "    }\n",
       "\n",
       "    .dataframe tbody tr th {\n",
       "        vertical-align: top;\n",
       "    }\n",
       "\n",
       "    .dataframe thead th {\n",
       "        text-align: right;\n",
       "    }\n",
       "</style>\n",
       "<table border=\"1\" class=\"dataframe\">\n",
       "  <thead>\n",
       "    <tr style=\"text-align: right;\">\n",
       "      <th></th>\n",
       "      <th>name</th>\n",
       "      <th>surname</th>\n",
       "      <th>skills</th>\n",
       "      <th>hobbies</th>\n",
       "      <th>person_id</th>\n",
       "      <th>grade</th>\n",
       "    </tr>\n",
       "  </thead>\n",
       "  <tbody>\n",
       "    <tr>\n",
       "      <th>0</th>\n",
       "      <td>Bouwina</td>\n",
       "      <td>Jelača</td>\n",
       "      <td>7</td>\n",
       "      <td>8</td>\n",
       "      <td>107</td>\n",
       "      <td>2.01</td>\n",
       "    </tr>\n",
       "    <tr>\n",
       "      <th>1</th>\n",
       "      <td>Paola</td>\n",
       "      <td>Kasalović</td>\n",
       "      <td>9</td>\n",
       "      <td>7</td>\n",
       "      <td>134</td>\n",
       "      <td>2.95</td>\n",
       "    </tr>\n",
       "    <tr>\n",
       "      <th>2</th>\n",
       "      <td>Kaja</td>\n",
       "      <td>Dolovac</td>\n",
       "      <td>11</td>\n",
       "      <td>6</td>\n",
       "      <td>40</td>\n",
       "      <td>3.46</td>\n",
       "    </tr>\n",
       "    <tr>\n",
       "      <th>3</th>\n",
       "      <td>Josip</td>\n",
       "      <td>Biberčić</td>\n",
       "      <td>7</td>\n",
       "      <td>7</td>\n",
       "      <td>45</td>\n",
       "      <td>2.62</td>\n",
       "    </tr>\n",
       "    <tr>\n",
       "      <th>4</th>\n",
       "      <td>Astrid</td>\n",
       "      <td>Dapčević</td>\n",
       "      <td>9</td>\n",
       "      <td>7</td>\n",
       "      <td>133</td>\n",
       "      <td>3.18</td>\n",
       "    </tr>\n",
       "    <tr>\n",
       "      <th>...</th>\n",
       "      <td>...</td>\n",
       "      <td>...</td>\n",
       "      <td>...</td>\n",
       "      <td>...</td>\n",
       "      <td>...</td>\n",
       "      <td>...</td>\n",
       "    </tr>\n",
       "    <tr>\n",
       "      <th>195</th>\n",
       "      <td>Grigor</td>\n",
       "      <td>Bešlagić</td>\n",
       "      <td>12</td>\n",
       "      <td>5</td>\n",
       "      <td>67</td>\n",
       "      <td>4.34</td>\n",
       "    </tr>\n",
       "    <tr>\n",
       "      <th>196</th>\n",
       "      <td>Lidija</td>\n",
       "      <td>Vukenović</td>\n",
       "      <td>6</td>\n",
       "      <td>8</td>\n",
       "      <td>7</td>\n",
       "      <td>2.34</td>\n",
       "    </tr>\n",
       "    <tr>\n",
       "      <th>197</th>\n",
       "      <td>Nera</td>\n",
       "      <td>Antić</td>\n",
       "      <td>10</td>\n",
       "      <td>7</td>\n",
       "      <td>150</td>\n",
       "      <td>2.46</td>\n",
       "    </tr>\n",
       "    <tr>\n",
       "      <th>198</th>\n",
       "      <td>Fran</td>\n",
       "      <td>Rovinac</td>\n",
       "      <td>6</td>\n",
       "      <td>5</td>\n",
       "      <td>165</td>\n",
       "      <td>2.34</td>\n",
       "    </tr>\n",
       "    <tr>\n",
       "      <th>199</th>\n",
       "      <td>Olivera</td>\n",
       "      <td>Šapić</td>\n",
       "      <td>11</td>\n",
       "      <td>4</td>\n",
       "      <td>187</td>\n",
       "      <td>3.68</td>\n",
       "    </tr>\n",
       "  </tbody>\n",
       "</table>\n",
       "<p>200 rows × 6 columns</p>\n",
       "</div>"
      ],
      "text/plain": [
       "        name    surname  skills  hobbies  person_id  grade\n",
       "0    Bouwina     Jelača       7        8        107   2.01\n",
       "1      Paola  Kasalović       9        7        134   2.95\n",
       "2       Kaja    Dolovac      11        6         40   3.46\n",
       "3      Josip   Biberčić       7        7         45   2.62\n",
       "4     Astrid   Dapčević       9        7        133   3.18\n",
       "..       ...        ...     ...      ...        ...    ...\n",
       "195   Grigor   Bešlagić      12        5         67   4.34\n",
       "196   Lidija  Vukenović       6        8          7   2.34\n",
       "197     Nera      Antić      10        7        150   2.46\n",
       "198     Fran    Rovinac       6        5        165   2.34\n",
       "199  Olivera      Šapić      11        4        187   3.68\n",
       "\n",
       "[200 rows x 6 columns]"
      ]
     },
     "execution_count": 12,
     "metadata": {},
     "output_type": "execute_result"
    }
   ],
   "source": [
    "people"
   ]
  },
  {
   "cell_type": "code",
   "execution_count": 13,
   "metadata": {},
   "outputs": [
    {
     "data": {
      "text/plain": [
       "<AxesSubplot:xlabel='grade'>"
      ]
     },
     "execution_count": 13,
     "metadata": {},
     "output_type": "execute_result"
    },
    {
     "data": {
      "image/png": "[encoded data removed]",
      "text/plain": [
       "<Figure size 432x288 with 1 Axes>"
      ]
     },
     "metadata": {
      "needs_background": "light"
     },
     "output_type": "display_data"
    }
   ],
   "source": [
    "people.plot(x='grade', y='skills', style='o')"
   ]
  },
  {
   "cell_type": "code",
   "execution_count": 2,
   "metadata": {},
   "outputs": [
    {
     "data": {
      "text/html": [
       "<div>\n",
       "<style scoped>\n",
       "    .dataframe tbody tr th:only-of-type {\n",
       "        vertical-align: middle;\n",
       "    }\n",
       "\n",
       "    .dataframe tbody tr th {\n",
       "        vertical-align: top;\n",
       "    }\n",
       "\n",
       "    .dataframe thead th {\n",
       "        text-align: right;\n",
       "    }\n",
       "</style>\n",
       "<table border=\"1\" class=\"dataframe\">\n",
       "  <thead>\n",
       "    <tr style=\"text-align: right;\">\n",
       "      <th></th>\n",
       "      <th>population</th>\n",
       "      <th>friendships</th>\n",
       "      <th>time</th>\n",
       "    </tr>\n",
       "  </thead>\n",
       "  <tbody>\n",
       "    <tr>\n",
       "      <th>0</th>\n",
       "      <td>50</td>\n",
       "      <td>125</td>\n",
       "      <td>2.152381</td>\n",
       "    </tr>\n",
       "    <tr>\n",
       "      <th>1</th>\n",
       "      <td>50</td>\n",
       "      <td>125</td>\n",
       "      <td>2.084781</td>\n",
       "    </tr>\n",
       "    <tr>\n",
       "      <th>2</th>\n",
       "      <td>50</td>\n",
       "      <td>125</td>\n",
       "      <td>2.086957</td>\n",
       "    </tr>\n",
       "    <tr>\n",
       "      <th>3</th>\n",
       "      <td>50</td>\n",
       "      <td>125</td>\n",
       "      <td>2.064915</td>\n",
       "    </tr>\n",
       "    <tr>\n",
       "      <th>4</th>\n",
       "      <td>50</td>\n",
       "      <td>125</td>\n",
       "      <td>2.092387</td>\n",
       "    </tr>\n",
       "    <tr>\n",
       "      <th>...</th>\n",
       "      <td>...</td>\n",
       "      <td>...</td>\n",
       "      <td>...</td>\n",
       "    </tr>\n",
       "    <tr>\n",
       "      <th>595</th>\n",
       "      <td>1000</td>\n",
       "      <td>50000</td>\n",
       "      <td>2.073323</td>\n",
       "    </tr>\n",
       "    <tr>\n",
       "      <th>596</th>\n",
       "      <td>1000</td>\n",
       "      <td>50000</td>\n",
       "      <td>2.062931</td>\n",
       "    </tr>\n",
       "    <tr>\n",
       "      <th>597</th>\n",
       "      <td>1000</td>\n",
       "      <td>50000</td>\n",
       "      <td>2.049453</td>\n",
       "    </tr>\n",
       "    <tr>\n",
       "      <th>598</th>\n",
       "      <td>1000</td>\n",
       "      <td>50000</td>\n",
       "      <td>2.061258</td>\n",
       "    </tr>\n",
       "    <tr>\n",
       "      <th>599</th>\n",
       "      <td>1000</td>\n",
       "      <td>50000</td>\n",
       "      <td>2.057218</td>\n",
       "    </tr>\n",
       "  </tbody>\n",
       "</table>\n",
       "<p>600 rows × 3 columns</p>\n",
       "</div>"
      ],
      "text/plain": [
       "     population  friendships      time\n",
       "0            50          125  2.152381\n",
       "1            50          125  2.084781\n",
       "2            50          125  2.086957\n",
       "3            50          125  2.064915\n",
       "4            50          125  2.092387\n",
       "..          ...          ...       ...\n",
       "595        1000        50000  2.073323\n",
       "596        1000        50000  2.062931\n",
       "597        1000        50000  2.049453\n",
       "598        1000        50000  2.061258\n",
       "599        1000        50000  2.057218\n",
       "\n",
       "[600 rows x 3 columns]"
      ]
     },
     "execution_count": 2,
     "metadata": {},
     "output_type": "execute_result"
    }
   ],
   "source": [
    "personal = pd.read_csv(\"./personal_2.csv\", encoding='utf-8')\n",
    "business = pd.read_csv(\"./business_2.csv\", encoding = 'utf-8')\n",
    "personal"
   ]
  },
  {
   "cell_type": "code",
   "execution_count": 8,
   "metadata": {},
   "outputs": [
    {
     "data": {
      "text/plain": [
       "<AxesSubplot:xlabel='population'>"
      ]
     },
     "execution_count": 8,
     "metadata": {},
     "output_type": "execute_result"
    },
    {
     "data": {
      "image/png": "[encoded data removed]",
      "text/plain": [
       "<Figure size 432x288 with 1 Axes>"
      ]
     },
     "metadata": {
      "needs_background": "light"
     },
     "output_type": "display_data"
    }
   ],
   "source": [
    "personal.plot(x='population', y='time', style='o', ylim=[1.5,2.5])"
   ]
  },
  {
   "cell_type": "code",
   "execution_count": 7,
   "metadata": {},
   "outputs": [
    {
     "data": {
      "text/plain": [
       "<AxesSubplot:xlabel='population'>"
      ]
     },
     "execution_count": 7,
     "metadata": {},
     "output_type": "execute_result"
    },
    {
     "data": {
      "image/png": "[encoded data removed]",
      "text/plain": [
       "<Figure size 432x288 with 1 Axes>"
      ]
     },
     "metadata": {
      "needs_background": "light"
     },
     "output_type": "display_data"
    }
   ],
   "source": [
    "business.plot(x='population', y='time', style='o', ylim=[1.5,2.5])"
   ]
  },
  {
   "cell_type": "code",
   "execution_count": null,
   "metadata": {},
   "outputs": [],
   "source": []
  }
 ],
 "metadata": {
  "kernelspec": {
   "display_name": "Python 3",
   "language": "python",
   "name": "python3"
  },
  "language_info": {
   "codemirror_mode": {
    "name": "ipython",
    "version": 3
   },
   "file_extension": ".py",
   "mimetype": "text/x-python",
   "name": "python",
   "nbconvert_exporter": "python",
   "pygments_lexer": "ipython3",
   "version": "3.8.5"
  }
 },
 "nbformat": 4,
 "nbformat_minor": 4
}
