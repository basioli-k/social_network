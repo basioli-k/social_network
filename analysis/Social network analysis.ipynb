{
 "cells": [
  {
   "cell_type": "code",
   "execution_count": 1,
   "metadata": {},
   "outputs": [],
   "source": [
    "import pandas as pd"
   ]
  },
  {
   "cell_type": "code",
   "execution_count": 58,
   "metadata": {},
   "outputs": [],
   "source": [
    "people = pd.read_csv(\"../database/people.csv\", encoding='utf-8')\n",
    "attendance = pd.read_csv(\"../database/attendance.csv\", encoding = 'utf-8')"
   ]
  },
  {
   "cell_type": "code",
   "execution_count": 59,
   "metadata": {},
   "outputs": [
    {
     "data": {
      "text/html": [
       "<div>\n",
       "<style scoped>\n",
       "    .dataframe tbody tr th:only-of-type {\n",
       "        vertical-align: middle;\n",
       "    }\n",
       "\n",
       "    .dataframe tbody tr th {\n",
       "        vertical-align: top;\n",
       "    }\n",
       "\n",
       "    .dataframe thead th {\n",
       "        text-align: right;\n",
       "    }\n",
       "</style>\n",
       "<table border=\"1\" class=\"dataframe\">\n",
       "  <thead>\n",
       "    <tr style=\"text-align: right;\">\n",
       "      <th></th>\n",
       "      <th>id</th>\n",
       "      <th>name</th>\n",
       "      <th>surname</th>\n",
       "      <th>skills</th>\n",
       "      <th>hobbies</th>\n",
       "    </tr>\n",
       "  </thead>\n",
       "  <tbody>\n",
       "    <tr>\n",
       "      <th>0</th>\n",
       "      <td>75</td>\n",
       "      <td>Giulia</td>\n",
       "      <td>Šelmić</td>\n",
       "      <td>matlab:waste management:physical chemistry:qua...</td>\n",
       "      <td>skiing:tennis:basketball:football:group sports...</td>\n",
       "    </tr>\n",
       "    <tr>\n",
       "      <th>1</th>\n",
       "      <td>57</td>\n",
       "      <td>Stephani</td>\n",
       "      <td>Kadijević</td>\n",
       "      <td>philosophy of culture:analytical chemistry:rec...</td>\n",
       "      <td>reading:football:cooking:diving:netflix:volley...</td>\n",
       "    </tr>\n",
       "    <tr>\n",
       "      <th>2</th>\n",
       "      <td>32</td>\n",
       "      <td>Maroje</td>\n",
       "      <td>Matković</td>\n",
       "      <td>archeology:beverage technology:grammatical nor...</td>\n",
       "      <td>writing:chess:football:netflix:gardening:skiin...</td>\n",
       "    </tr>\n",
       "    <tr>\n",
       "      <th>3</th>\n",
       "      <td>189</td>\n",
       "      <td>Dejan</td>\n",
       "      <td>Krezić</td>\n",
       "      <td>thermal engineering:inorganic chemistry:struct...</td>\n",
       "      <td>translating:gardening:basketball:professional ...</td>\n",
       "    </tr>\n",
       "    <tr>\n",
       "      <th>4</th>\n",
       "      <td>154</td>\n",
       "      <td>Zvonimira</td>\n",
       "      <td>Krstić</td>\n",
       "      <td>design of biological processes:new food and te...</td>\n",
       "      <td>reading:chess:skiing:swimming:horseback riding...</td>\n",
       "    </tr>\n",
       "    <tr>\n",
       "      <th>...</th>\n",
       "      <td>...</td>\n",
       "      <td>...</td>\n",
       "      <td>...</td>\n",
       "      <td>...</td>\n",
       "      <td>...</td>\n",
       "    </tr>\n",
       "    <tr>\n",
       "      <th>195</th>\n",
       "      <td>131</td>\n",
       "      <td>Lidia</td>\n",
       "      <td>Gleđa</td>\n",
       "      <td>robotics in the food industry:meat and fish te...</td>\n",
       "      <td>volunteering:professional dancing:horseback ri...</td>\n",
       "    </tr>\n",
       "    <tr>\n",
       "      <th>196</th>\n",
       "      <td>98</td>\n",
       "      <td>Vjekoslava</td>\n",
       "      <td>Šljokavica</td>\n",
       "      <td>matlab:industrial biotransformations:energy ma...</td>\n",
       "      <td>diving:volunteering:football:gym:basketball:vi...</td>\n",
       "    </tr>\n",
       "    <tr>\n",
       "      <th>197</th>\n",
       "      <td>25</td>\n",
       "      <td>Leona</td>\n",
       "      <td>Špica</td>\n",
       "      <td>industrial biotransformations:energy managemen...</td>\n",
       "      <td>translating:videogaming:group sports:reading:n...</td>\n",
       "    </tr>\n",
       "    <tr>\n",
       "      <th>198</th>\n",
       "      <td>77</td>\n",
       "      <td>Silvija</td>\n",
       "      <td>Bekovac</td>\n",
       "      <td>philosophy of culture:physics:mathematics:pale...</td>\n",
       "      <td>cooking:handmade crafts:tennis:swimming:garden...</td>\n",
       "    </tr>\n",
       "    <tr>\n",
       "      <th>199</th>\n",
       "      <td>110</td>\n",
       "      <td>Miljenko</td>\n",
       "      <td>Rančić</td>\n",
       "      <td>roman private law:philosophy of religion:manag...</td>\n",
       "      <td>professional dancing:swimming:football:handmad...</td>\n",
       "    </tr>\n",
       "  </tbody>\n",
       "</table>\n",
       "<p>200 rows × 5 columns</p>\n",
       "</div>"
      ],
      "text/plain": [
       "      id        name     surname  \\\n",
       "0     75      Giulia      Šelmić   \n",
       "1     57    Stephani   Kadijević   \n",
       "2     32      Maroje    Matković   \n",
       "3    189       Dejan      Krezić   \n",
       "4    154   Zvonimira      Krstić   \n",
       "..   ...         ...         ...   \n",
       "195  131       Lidia       Gleđa   \n",
       "196   98  Vjekoslava  Šljokavica   \n",
       "197   25       Leona       Špica   \n",
       "198   77     Silvija     Bekovac   \n",
       "199  110    Miljenko      Rančić   \n",
       "\n",
       "                                                skills  \\\n",
       "0    matlab:waste management:physical chemistry:qua...   \n",
       "1    philosophy of culture:analytical chemistry:rec...   \n",
       "2    archeology:beverage technology:grammatical nor...   \n",
       "3    thermal engineering:inorganic chemistry:struct...   \n",
       "4    design of biological processes:new food and te...   \n",
       "..                                                 ...   \n",
       "195  robotics in the food industry:meat and fish te...   \n",
       "196  matlab:industrial biotransformations:energy ma...   \n",
       "197  industrial biotransformations:energy managemen...   \n",
       "198  philosophy of culture:physics:mathematics:pale...   \n",
       "199  roman private law:philosophy of religion:manag...   \n",
       "\n",
       "                                               hobbies  \n",
       "0    skiing:tennis:basketball:football:group sports...  \n",
       "1    reading:football:cooking:diving:netflix:volley...  \n",
       "2    writing:chess:football:netflix:gardening:skiin...  \n",
       "3    translating:gardening:basketball:professional ...  \n",
       "4    reading:chess:skiing:swimming:horseback riding...  \n",
       "..                                                 ...  \n",
       "195  volunteering:professional dancing:horseback ri...  \n",
       "196  diving:volunteering:football:gym:basketball:vi...  \n",
       "197  translating:videogaming:group sports:reading:n...  \n",
       "198  cooking:handmade crafts:tennis:swimming:garden...  \n",
       "199  professional dancing:swimming:football:handmad...  \n",
       "\n",
       "[200 rows x 5 columns]"
      ]
     },
     "execution_count": 59,
     "metadata": {},
     "output_type": "execute_result"
    }
   ],
   "source": [
    "people = people[[\"id\",\"name\",\"surname\",\"skills\",\"hobbies\"]]\n",
    "people"
   ]
  },
  {
   "cell_type": "code",
   "execution_count": 60,
   "metadata": {},
   "outputs": [
    {
     "data": {
      "text/html": [
       "<div>\n",
       "<style scoped>\n",
       "    .dataframe tbody tr th:only-of-type {\n",
       "        vertical-align: middle;\n",
       "    }\n",
       "\n",
       "    .dataframe tbody tr th {\n",
       "        vertical-align: top;\n",
       "    }\n",
       "\n",
       "    .dataframe thead th {\n",
       "        text-align: right;\n",
       "    }\n",
       "</style>\n",
       "<table border=\"1\" class=\"dataframe\">\n",
       "  <thead>\n",
       "    <tr style=\"text-align: right;\">\n",
       "      <th></th>\n",
       "      <th>person_id</th>\n",
       "      <th>grade</th>\n",
       "    </tr>\n",
       "  </thead>\n",
       "  <tbody>\n",
       "    <tr>\n",
       "      <th>0</th>\n",
       "      <td>75</td>\n",
       "      <td>2.86</td>\n",
       "    </tr>\n",
       "    <tr>\n",
       "      <th>1</th>\n",
       "      <td>57</td>\n",
       "      <td>2.43</td>\n",
       "    </tr>\n",
       "    <tr>\n",
       "      <th>2</th>\n",
       "      <td>32</td>\n",
       "      <td>2.11</td>\n",
       "    </tr>\n",
       "    <tr>\n",
       "      <th>3</th>\n",
       "      <td>189</td>\n",
       "      <td>3.18</td>\n",
       "    </tr>\n",
       "    <tr>\n",
       "      <th>4</th>\n",
       "      <td>154</td>\n",
       "      <td>2.33</td>\n",
       "    </tr>\n",
       "    <tr>\n",
       "      <th>...</th>\n",
       "      <td>...</td>\n",
       "      <td>...</td>\n",
       "    </tr>\n",
       "    <tr>\n",
       "      <th>195</th>\n",
       "      <td>131</td>\n",
       "      <td>2.79</td>\n",
       "    </tr>\n",
       "    <tr>\n",
       "      <th>196</th>\n",
       "      <td>98</td>\n",
       "      <td>3.04</td>\n",
       "    </tr>\n",
       "    <tr>\n",
       "      <th>197</th>\n",
       "      <td>25</td>\n",
       "      <td>2.14</td>\n",
       "    </tr>\n",
       "    <tr>\n",
       "      <th>198</th>\n",
       "      <td>77</td>\n",
       "      <td>4.07</td>\n",
       "    </tr>\n",
       "    <tr>\n",
       "      <th>199</th>\n",
       "      <td>110</td>\n",
       "      <td>2.58</td>\n",
       "    </tr>\n",
       "  </tbody>\n",
       "</table>\n",
       "<p>200 rows × 2 columns</p>\n",
       "</div>"
      ],
      "text/plain": [
       "     person_id  grade\n",
       "0           75   2.86\n",
       "1           57   2.43\n",
       "2           32   2.11\n",
       "3          189   3.18\n",
       "4          154   2.33\n",
       "..         ...    ...\n",
       "195        131   2.79\n",
       "196         98   3.04\n",
       "197         25   2.14\n",
       "198         77   4.07\n",
       "199        110   2.58\n",
       "\n",
       "[200 rows x 2 columns]"
      ]
     },
     "execution_count": 60,
     "metadata": {},
     "output_type": "execute_result"
    }
   ],
   "source": [
    "attendance = attendance[[\"person_id\", \"grade\"]]\n",
    "attendance"
   ]
  },
  {
   "cell_type": "code",
   "execution_count": 61,
   "metadata": {},
   "outputs": [],
   "source": [
    "def count(string_sep, sep = \":\"):\n",
    "    return len(string_sep.split(\":\"))"
   ]
  },
  {
   "cell_type": "code",
   "execution_count": 62,
   "metadata": {},
   "outputs": [],
   "source": [
    "for el in people[\"skills\"]:\n",
    "    people.replace(el, count(el), inplace=True) "
   ]
  },
  {
   "cell_type": "code",
   "execution_count": 63,
   "metadata": {},
   "outputs": [],
   "source": [
    "for el in people[\"hobbies\"]:\n",
    "    people.replace(el, count(el), inplace=True)"
   ]
  },
  {
   "cell_type": "code",
   "execution_count": 64,
   "metadata": {},
   "outputs": [
    {
     "data": {
      "text/plain": [
       "array([[<AxesSubplot:title={'center':'skills'}>]], dtype=object)"
      ]
     },
     "execution_count": 64,
     "metadata": {},
     "output_type": "execute_result"
    },
    {
     "data": {
      "image/png": "[encoded data removed]",
      "text/plain": [
       "<Figure size 432x288 with 1 Axes>"
      ]
     },
     "metadata": {
      "needs_background": "light"
     },
     "output_type": "display_data"
    }
   ],
   "source": [
    "people.hist(\"skills\", bins=10)"
   ]
  },
  {
   "cell_type": "code",
   "execution_count": 65,
   "metadata": {},
   "outputs": [
    {
     "data": {
      "text/plain": [
       "array([[<AxesSubplot:title={'center':'hobbies'}>]], dtype=object)"
      ]
     },
     "execution_count": 65,
     "metadata": {},
     "output_type": "execute_result"
    },
    {
     "data": {
      "image/png": "[encoded data removed]",
      "text/plain": [
       "<Figure size 432x288 with 1 Axes>"
      ]
     },
     "metadata": {
      "needs_background": "light"
     },
     "output_type": "display_data"
    }
   ],
   "source": [
    "people.hist(\"hobbies\", bins=5)"
   ]
  },
  {
   "cell_type": "code",
   "execution_count": 66,
   "metadata": {},
   "outputs": [],
   "source": [
    "people = people.set_index('id')"
   ]
  },
  {
   "cell_type": "code",
   "execution_count": 67,
   "metadata": {},
   "outputs": [],
   "source": [
    "people = people.merge(attendance, left_index=True, right_on='person_id')"
   ]
  },
  {
   "cell_type": "code",
   "execution_count": 68,
   "metadata": {},
   "outputs": [
    {
     "data": {
      "text/html": [
       "<div>\n",
       "<style scoped>\n",
       "    .dataframe tbody tr th:only-of-type {\n",
       "        vertical-align: middle;\n",
       "    }\n",
       "\n",
       "    .dataframe tbody tr th {\n",
       "        vertical-align: top;\n",
       "    }\n",
       "\n",
       "    .dataframe thead th {\n",
       "        text-align: right;\n",
       "    }\n",
       "</style>\n",
       "<table border=\"1\" class=\"dataframe\">\n",
       "  <thead>\n",
       "    <tr style=\"text-align: right;\">\n",
       "      <th></th>\n",
       "      <th>name</th>\n",
       "      <th>surname</th>\n",
       "      <th>skills</th>\n",
       "      <th>hobbies</th>\n",
       "      <th>person_id</th>\n",
       "      <th>grade</th>\n",
       "    </tr>\n",
       "  </thead>\n",
       "  <tbody>\n",
       "    <tr>\n",
       "      <th>0</th>\n",
       "      <td>Giulia</td>\n",
       "      <td>Šelmić</td>\n",
       "      <td>7</td>\n",
       "      <td>9</td>\n",
       "      <td>75</td>\n",
       "      <td>2.86</td>\n",
       "    </tr>\n",
       "    <tr>\n",
       "      <th>1</th>\n",
       "      <td>Stephani</td>\n",
       "      <td>Kadijević</td>\n",
       "      <td>8</td>\n",
       "      <td>8</td>\n",
       "      <td>57</td>\n",
       "      <td>2.43</td>\n",
       "    </tr>\n",
       "    <tr>\n",
       "      <th>2</th>\n",
       "      <td>Maroje</td>\n",
       "      <td>Matković</td>\n",
       "      <td>7</td>\n",
       "      <td>8</td>\n",
       "      <td>32</td>\n",
       "      <td>2.11</td>\n",
       "    </tr>\n",
       "    <tr>\n",
       "      <th>3</th>\n",
       "      <td>Dejan</td>\n",
       "      <td>Krezić</td>\n",
       "      <td>11</td>\n",
       "      <td>4</td>\n",
       "      <td>189</td>\n",
       "      <td>3.18</td>\n",
       "    </tr>\n",
       "    <tr>\n",
       "      <th>4</th>\n",
       "      <td>Zvonimira</td>\n",
       "      <td>Krstić</td>\n",
       "      <td>8</td>\n",
       "      <td>7</td>\n",
       "      <td>154</td>\n",
       "      <td>2.33</td>\n",
       "    </tr>\n",
       "    <tr>\n",
       "      <th>...</th>\n",
       "      <td>...</td>\n",
       "      <td>...</td>\n",
       "      <td>...</td>\n",
       "      <td>...</td>\n",
       "      <td>...</td>\n",
       "      <td>...</td>\n",
       "    </tr>\n",
       "    <tr>\n",
       "      <th>195</th>\n",
       "      <td>Lidia</td>\n",
       "      <td>Gleđa</td>\n",
       "      <td>10</td>\n",
       "      <td>6</td>\n",
       "      <td>131</td>\n",
       "      <td>2.79</td>\n",
       "    </tr>\n",
       "    <tr>\n",
       "      <th>196</th>\n",
       "      <td>Vjekoslava</td>\n",
       "      <td>Šljokavica</td>\n",
       "      <td>12</td>\n",
       "      <td>7</td>\n",
       "      <td>98</td>\n",
       "      <td>3.04</td>\n",
       "    </tr>\n",
       "    <tr>\n",
       "      <th>197</th>\n",
       "      <td>Leona</td>\n",
       "      <td>Špica</td>\n",
       "      <td>11</td>\n",
       "      <td>5</td>\n",
       "      <td>25</td>\n",
       "      <td>2.14</td>\n",
       "    </tr>\n",
       "    <tr>\n",
       "      <th>198</th>\n",
       "      <td>Silvija</td>\n",
       "      <td>Bekovac</td>\n",
       "      <td>7</td>\n",
       "      <td>9</td>\n",
       "      <td>77</td>\n",
       "      <td>4.07</td>\n",
       "    </tr>\n",
       "    <tr>\n",
       "      <th>199</th>\n",
       "      <td>Miljenko</td>\n",
       "      <td>Rančić</td>\n",
       "      <td>12</td>\n",
       "      <td>8</td>\n",
       "      <td>110</td>\n",
       "      <td>2.58</td>\n",
       "    </tr>\n",
       "  </tbody>\n",
       "</table>\n",
       "<p>200 rows × 6 columns</p>\n",
       "</div>"
      ],
      "text/plain": [
       "           name     surname  skills  hobbies  person_id  grade\n",
       "0        Giulia      Šelmić       7        9         75   2.86\n",
       "1      Stephani   Kadijević       8        8         57   2.43\n",
       "2        Maroje    Matković       7        8         32   2.11\n",
       "3         Dejan      Krezić      11        4        189   3.18\n",
       "4     Zvonimira      Krstić       8        7        154   2.33\n",
       "..          ...         ...     ...      ...        ...    ...\n",
       "195       Lidia       Gleđa      10        6        131   2.79\n",
       "196  Vjekoslava  Šljokavica      12        7         98   3.04\n",
       "197       Leona       Špica      11        5         25   2.14\n",
       "198     Silvija     Bekovac       7        9         77   4.07\n",
       "199    Miljenko      Rančić      12        8        110   2.58\n",
       "\n",
       "[200 rows x 6 columns]"
      ]
     },
     "execution_count": 68,
     "metadata": {},
     "output_type": "execute_result"
    }
   ],
   "source": [
    "people"
   ]
  },
  {
   "cell_type": "code",
   "execution_count": 69,
   "metadata": {},
   "outputs": [
    {
     "data": {
      "text/plain": [
       "<AxesSubplot:xlabel='grade'>"
      ]
     },
     "execution_count": 69,
     "metadata": {},
     "output_type": "execute_result"
    },
    {
     "data": {
      "image/png": "[encoded data removed]",
      "text/plain": [
       "<Figure size 432x288 with 1 Axes>"
      ]
     },
     "metadata": {
      "needs_background": "light"
     },
     "output_type": "display_data"
    }
   ],
   "source": [
    "people.plot(x='grade', y='skills', style='o')"
   ]
  },
  {
   "cell_type": "code",
   "execution_count": null,
   "metadata": {},
   "outputs": [],
   "source": []
  }
 ],
 "metadata": {
  "kernelspec": {
   "display_name": "Python 3",
   "language": "python",
   "name": "python3"
  },
  "language_info": {
   "codemirror_mode": {
    "name": "ipython",
    "version": 3
   },
   "file_extension": ".py",
   "mimetype": "text/x-python",
   "name": "python",
   "nbconvert_exporter": "python",
   "pygments_lexer": "ipython3",
   "version": "3.8.5"
  }
 },
 "nbformat": 4,
 "nbformat_minor": 4
}
